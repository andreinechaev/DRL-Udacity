{
 "cells": [
  {
   "cell_type": "markdown",
   "metadata": {},
   "source": [
    "# Collaboration and Competition\n",
    "\n",
    "---\n",
    "\n",
    "In this notebook, you will learn how to use the Unity ML-Agents environment for the third project of the [Deep Reinforcement Learning Nanodegree](https://www.udacity.com/course/deep-reinforcement-learning-nanodegree--nd893) program.\n",
    "\n",
    "### 1. Start the Environment\n",
    "\n",
    "We begin by importing the necessary packages.  If the code cell below returns an error, please revisit the project instructions to double-check that you have installed [Unity ML-Agents](https://github.com/Unity-Technologies/ml-agents/blob/master/docs/Installation.md) and [NumPy](http://www.numpy.org/)."
   ]
  },
  {
   "cell_type": "code",
   "execution_count": 1,
   "metadata": {},
   "outputs": [],
   "source": [
    "from unityagents import UnityEnvironment\n",
    "import numpy as np"
   ]
  },
  {
   "cell_type": "markdown",
   "metadata": {},
   "source": [
    "Next, we will start the environment!  **_Before running the code cell below_**, change the `file_name` parameter to match the location of the Unity environment that you downloaded.\n",
    "\n",
    "- **Mac**: `\"path/to/Tennis.app\"`\n",
    "- **Windows** (x86): `\"path/to/Tennis_Windows_x86/Tennis.exe\"`\n",
    "- **Windows** (x86_64): `\"path/to/Tennis_Windows_x86_64/Tennis.exe\"`\n",
    "- **Linux** (x86): `\"path/to/Tennis_Linux/Tennis.x86\"`\n",
    "- **Linux** (x86_64): `\"path/to/Tennis_Linux/Tennis.x86_64\"`\n",
    "- **Linux** (x86, headless): `\"path/to/Tennis_Linux_NoVis/Tennis.x86\"`\n",
    "- **Linux** (x86_64, headless): `\"path/to/Tennis_Linux_NoVis/Tennis.x86_64\"`\n",
    "\n",
    "For instance, if you are using a Mac, then you downloaded `Tennis.app`.  If this file is in the same folder as the notebook, then the line below should appear as follows:\n",
    "```\n",
    "env = UnityEnvironment(file_name=\"Tennis.app\")\n",
    "```"
   ]
  },
  {
   "cell_type": "code",
   "execution_count": 2,
   "metadata": {},
   "outputs": [
    {
     "name": "stderr",
     "output_type": "stream",
     "text": [
      "INFO:unityagents:\n",
      "'Academy' started successfully!\n",
      "Unity Academy name: Academy\n",
      "        Number of Brains: 1\n",
      "        Number of External Brains : 1\n",
      "        Lesson number : 0\n",
      "        Reset Parameters :\n",
      "\t\t\n",
      "Unity brain name: TennisBrain\n",
      "        Number of Visual Observations (per agent): 0\n",
      "        Vector Observation space type: continuous\n",
      "        Vector Observation space size (per agent): 8\n",
      "        Number of stacked Vector Observation: 3\n",
      "        Vector Action space type: continuous\n",
      "        Vector Action space size (per agent): 2\n",
      "        Vector Action descriptions: , \n"
     ]
    }
   ],
   "source": [
    "env = UnityEnvironment(file_name=\"Tennis_Linux/Tennis.x86_64\")"
   ]
  },
  {
   "cell_type": "markdown",
   "metadata": {},
   "source": [
    "Environments contain **_brains_** which are responsible for deciding the actions of their associated agents. Here we check for the first brain available, and set it as the default brain we will be controlling from Python."
   ]
  },
  {
   "cell_type": "code",
   "execution_count": 3,
   "metadata": {},
   "outputs": [],
   "source": [
    "# get the default brain\n",
    "brain_name = env.brain_names[0]\n",
    "brain = env.brains[brain_name]"
   ]
  },
  {
   "cell_type": "markdown",
   "metadata": {},
   "source": [
    "### 2. Examine the State and Action Spaces\n",
    "\n",
    "In this environment, two agents control rackets to bounce a ball over a net. If an agent hits the ball over the net, it receives a reward of +0.1.  If an agent lets a ball hit the ground or hits the ball out of bounds, it receives a reward of -0.01.  Thus, the goal of each agent is to keep the ball in play.\n",
    "\n",
    "The observation space consists of 8 variables corresponding to the position and velocity of the ball and racket. Two continuous actions are available, corresponding to movement toward (or away from) the net, and jumping. \n",
    "\n",
    "Run the code cell below to print some information about the environment."
   ]
  },
  {
   "cell_type": "code",
   "execution_count": 4,
   "metadata": {},
   "outputs": [
    {
     "name": "stdout",
     "output_type": "stream",
     "text": [
      "Number of agents: 2\n",
      "Size of each action: 2\n",
      "There are 2 agents. Each observes a state with length: 24\n",
      "The state for the first agent looks like: [ 0.          0.          0.          0.          0.          0.\n",
      "  0.          0.          0.          0.          0.          0.\n",
      "  0.          0.          0.          0.         -6.65278625 -1.5\n",
      " -0.          0.          6.83172083  6.         -0.          0.        ]\n"
     ]
    }
   ],
   "source": [
    "# reset the environment\n",
    "env_info = env.reset(train_mode=True)[brain_name]\n",
    "\n",
    "# number of agents \n",
    "num_agents = len(env_info.agents)\n",
    "print('Number of agents:', num_agents)\n",
    "\n",
    "# size of each action\n",
    "action_size = brain.vector_action_space_size\n",
    "print('Size of each action:', action_size)\n",
    "\n",
    "# examine the state space \n",
    "states = env_info.vector_observations\n",
    "state_size = states.shape[1]\n",
    "print('There are {} agents. Each observes a state with length: {}'.format(states.shape[0], state_size))\n",
    "print('The state for the first agent looks like:', states[0])"
   ]
  },
  {
   "cell_type": "markdown",
   "metadata": {},
   "source": [
    "### 3. Take Random Actions in the Environment\n",
    "\n",
    "In the next code cell, you will learn how to use the Python API to control the agents and receive feedback from the environment.\n",
    "\n",
    "Once this cell is executed, you will watch the agents' performance, if they select actions at random with each time step.  A window should pop up that allows you to observe the agents.\n",
    "\n",
    "Of course, as part of the project, you'll have to change the code so that the agents are able to use their experiences to gradually choose better actions when interacting with the environment!"
   ]
  },
  {
   "cell_type": "code",
   "execution_count": 5,
   "metadata": {},
   "outputs": [
    {
     "name": "stdout",
     "output_type": "stream",
     "text": [
      "(2, 24)\n"
     ]
    }
   ],
   "source": [
    "for i in range(1, 6):                                      # play game for 5 episodes\n",
    "    env_info = env.reset(train_mode=False)[brain_name]     # reset the environment    \n",
    "    states = env_info.vector_observations                  # get the current state (for each agent)\n",
    "    print(states.shape)\n",
    "    break\n",
    "    # scores = np.zeros(num_agents)                          # initialize the score (for each agent)\n",
    "    # while True:\n",
    "    #     actions = np.random.randn(num_agents, action_size) # select an action (for each agent)\n",
    "    #     actions = np.clip(actions, -1, 1)                  # all actions between -1 and 1\n",
    "    #     env_info = env.step(actions)[brain_name]           # send all actions to tne environment\n",
    "    #     next_states = env_info.vector_observations         # get next state (for each agent)\n",
    "    #     rewards = env_info.rewards                         # get reward (for each agent)\n",
    "    #     dones = env_info.local_done                        # see if episode finished\n",
    "    #     scores += env_info.rewards                         # update the score (for each agent)\n",
    "    #     states = next_states                               # roll over states to next time step\n",
    "    #     if np.any(dones):                                  # exit loop if episode finished\n",
    "    #         break\n",
    "    # print('Score (max over agents) from episode {}: {}'.format(i, np.max(scores)))"
   ]
  },
  {
   "cell_type": "markdown",
   "metadata": {},
   "source": [
    "When finished, you can close the environment."
   ]
  },
  {
   "cell_type": "code",
   "execution_count": 6,
   "metadata": {},
   "outputs": [],
   "source": [
    "# env.close()"
   ]
  },
  {
   "cell_type": "markdown",
   "metadata": {},
   "source": [
    "### 4. It's Your Turn!\n",
    "\n",
    "Now it's your turn to train your own agent to solve the environment!  When training the environment, set `train_mode=True`, so that the line for resetting the environment looks like the following:\n",
    "```python\n",
    "env_info = env.reset(train_mode=True)[brain_name]\n",
    "```"
   ]
  },
  {
   "cell_type": "code",
   "execution_count": 7,
   "metadata": {},
   "outputs": [],
   "source": [
    "import torch\n",
    "import torch.nn as nn\n",
    "import torch.nn.functional as f\n",
    "\n",
    "\n",
    "class Actor(nn.Module):\n",
    "\n",
    "    def __init__(self, inputs, outputs, dim=(256, 256), device='cpu'):\n",
    "        super(Actor, self).__init__()\n",
    "        self.fc1 = nn.Linear(inputs, dim[0])\n",
    "        f1 = 1 / np.sqrt(self.fc1.weight.data.size()[0])\n",
    "        nn.init.uniform_(self.fc1.weight.data, -f1, f1)\n",
    "        nn.init.uniform_(self.fc1.bias.data, -f1, f1)\n",
    "\n",
    "        self.bn1 = nn.LayerNorm(dim[0])\n",
    "        self.hidden = nn.ModuleList()\n",
    "        self.hidden_norm = nn.ModuleList()\n",
    "        for d in range(len(dim)-1):\n",
    "            self.hidden.append(nn.Linear(dim[d], dim[d+1]))\n",
    "            fn = 1 / np.sqrt(self.hidden[d].weight.data.size()[0])\n",
    "            nn.init.uniform_(self.hidden[d].weight.data, -fn, fn)\n",
    "            nn.init.uniform_(self.hidden[d].bias.data, -fn, fn)\n",
    "\n",
    "            self.hidden_norm.append(nn.LayerNorm(dim[d+1]))\n",
    "\n",
    "        self.out = nn.Linear(dim[-1], outputs)\n",
    "        self.to(torch.device(device))\n",
    "\n",
    "    def forward(self, X):\n",
    "        X = f.relu(self.bn1(self.fc1(X)))\n",
    "        for i in range(len(self.hidden)):\n",
    "            X = f.relu(self.hidden_norm[i](self.hidden[i](X)))\n",
    "\n",
    "        return torch.tanh(self.out(X))\n",
    "\n",
    "\n",
    "class Critic(nn.Module):\n",
    "\n",
    "    def __init__(self, inputs, outputs, dim=(256, 256), device='cpu'):\n",
    "        super(Critic, self).__init__()\n",
    "        self.fc1 = nn.Linear(inputs, dim[0])\n",
    "        f1 = 1 / np.sqrt(self.fc1.weight.data.size()[0])\n",
    "        nn.init.uniform_(self.fc1.weight.data, -f1, f1)\n",
    "        nn.init.uniform_(self.fc1.bias.data, -f1, f1)\n",
    "\n",
    "        self.bn1 = nn.LayerNorm(dim[0])\n",
    "        self.hidden = nn.ModuleList()\n",
    "        self.hidden_norm = nn.ModuleList()\n",
    "        for d in range(len(dim)-1):\n",
    "            self.hidden.append(nn.Linear(dim[d], dim[d+1]))\n",
    "            fn = 1 / np.sqrt(self.hidden[d].weight.data.size()[0])\n",
    "            nn.init.uniform_(self.hidden[d].weight.data, -fn, fn)\n",
    "            nn.init.uniform_(self.hidden[d].bias.data, -fn, fn)\n",
    "\n",
    "            self.hidden_norm.append(nn.LayerNorm(dim[d+1]))\n",
    "\n",
    "        self.out = nn.Linear(dim[-1], outputs)\n",
    "        self.to(torch.device(device))\n",
    "\n",
    "    def forward(self, state, action):\n",
    "        X = X = torch.cat([state, action], 1)\n",
    "        X = f.relu(self.bn1(self.fc1(X)))\n",
    "        for i in range(len(self.hidden)):\n",
    "            X = f.relu(self.hidden_norm[i](self.hidden[i](X)))\n",
    "\n",
    "        return self.out(X)\n"
   ]
  },
  {
   "cell_type": "code",
   "execution_count": 8,
   "metadata": {},
   "outputs": [],
   "source": [
    "from collections import deque\n",
    "import random\n",
    "\n",
    "\n",
    "class ReplayBuffer:\n",
    "\n",
    "    def __init__(self, cap=512):\n",
    "        self.buffer = deque(maxlen=cap)\n",
    "\n",
    "    def push(self, state, action, reward, next_state, done):\n",
    "        experience = (state, action, np.array(reward), next_state, done)\n",
    "        self.buffer.append(experience)\n",
    "\n",
    "    def sample(self, batch_size):\n",
    "        states, actions, rewards, next_states, dones = zip(\n",
    "            *random.sample(self.buffer, batch_size))\n",
    "        return np.vstack(states), np.vstack(actions), np.vstack(rewards), np.vstack(next_states), np.vstack(dones)\n",
    "\n",
    "    def __len__(self):\n",
    "        return len(self.buffer)"
   ]
  },
  {
   "cell_type": "code",
   "execution_count": 9,
   "metadata": {},
   "outputs": [],
   "source": [
    "def hard_copy(net: nn.Module, target_net: nn.Module):\n",
    "    for param, target_param in zip(net.parameters(), target_net.parameters()):\n",
    "        target_param.data.copy_(param.data)\n",
    "\n",
    "\n",
    "def soft_copy(net: nn.Module, target_net: nn.Module, tau=1e-2):\n",
    "    for param, target_param in zip(net.parameters(), target_net.parameters()):\n",
    "        target_param.data.copy_(\n",
    "            param.data * tau + target_param.data * (1.0 - tau))"
   ]
  },
  {
   "cell_type": "code",
   "execution_count": 10,
   "metadata": {},
   "outputs": [],
   "source": [
    "import matplotlib.pyplot as plt\n",
    "%matplotlib inline\n",
    "\n",
    "def plot_rewards(rewards, average=None, goal=30, title=None, filename=None):\n",
    "    plt.plot(rewards, label='Reward')\n",
    "    if average is not None:\n",
    "        plt.plot(average, label='Average Reward')\n",
    "    plt.plot([goal] * len(rewards), linestyle='--', label='Goal')\n",
    "    plt.xlabel('Episode')\n",
    "    plt.ylabel('Reward')\n",
    "    plt.title(title)\n",
    "    plt.legend()\n",
    "\n",
    "    if filename is not None:\n",
    "        plt.savefig(filename)\n",
    "\n",
    "    plt.show()"
   ]
  },
  {
   "cell_type": "code",
   "execution_count": 11,
   "metadata": {},
   "outputs": [],
   "source": [
    "class OUNoise:\n",
    "    \n",
    "    def __init__(self, action_space, mu=0.0, theta=0.15, max_sigma=0.3, min_sigma=0.1, decay_period=100000):\n",
    "        self.mu = mu\n",
    "        self.theta = theta\n",
    "        self.sigma = max_sigma\n",
    "        self.max_sigma = max_sigma\n",
    "        self.min_sigma = min_sigma\n",
    "        self.decay_period = decay_period\n",
    "        self.action_dim = action_space\n",
    "        self.low = -1.0\n",
    "        self.high = 1.0\n",
    "        self.reset()\n",
    "\n",
    "    def reset(self):\n",
    "        self.state = np.ones(self.action_dim) * self.mu\n",
    "\n",
    "    def evolve_state(self):\n",
    "        x = self.state\n",
    "        dx = self.theta * (self.mu - x) + self.sigma * \\\n",
    "            np.random.randn(self.action_dim)\n",
    "        self.state = x + dx\n",
    "        return self.state\n",
    "\n",
    "    def get_action(self, action, t=0):\n",
    "        ou_state = self.evolve_state()\n",
    "        self.sigma = self.max_sigma - \\\n",
    "            (self.max_sigma - self.min_sigma) * min(1.0, t / self.decay_period)\n",
    "        return np.clip(action + ou_state, self.low, self.high)\n"
   ]
  },
  {
   "cell_type": "code",
   "execution_count": 12,
   "metadata": {},
   "outputs": [
    {
     "name": "stdout",
     "output_type": "stream",
     "text": [
      "device in use: cuda\n",
      "Actors arch Actor(\n",
      "  (fc1): Linear(in_features=24, out_features=300, bias=True)\n",
      "  (bn1): LayerNorm((300,), eps=1e-05, elementwise_affine=True)\n",
      "  (hidden): ModuleList(\n",
      "    (0): Linear(in_features=300, out_features=400, bias=True)\n",
      "  )\n",
      "  (hidden_norm): ModuleList(\n",
      "    (0): LayerNorm((400,), eps=1e-05, elementwise_affine=True)\n",
      "  )\n",
      "  (out): Linear(in_features=400, out_features=2, bias=True)\n",
      ")\n",
      "Critic Critic(\n",
      "  (fc1): Linear(in_features=26, out_features=400, bias=True)\n",
      "  (bn1): LayerNorm((400,), eps=1e-05, elementwise_affine=True)\n",
      "  (hidden): ModuleList(\n",
      "    (0): Linear(in_features=400, out_features=500, bias=True)\n",
      "  )\n",
      "  (hidden_norm): ModuleList(\n",
      "    (0): LayerNorm((500,), eps=1e-05, elementwise_affine=True)\n",
      "  )\n",
      "  (out): Linear(in_features=500, out_features=2, bias=True)\n",
      ")\n",
      "Episode 568 reward 4.800 and average reward 0.540 after 23746 stepsEarly stop at episode 568; Goal has been reached; Mean reward in the last 100 episodes 0.5399000080674887\n"
     ]
    }
   ],
   "source": [
    "import torch.optim as optim\n",
    "import gc\n",
    "\n",
    "ACTOR_LR = 10e-4\n",
    "CRITIC_LR = 10e-3\n",
    "BUFFER_LEN = 500_000\n",
    "\n",
    "BATCH_SIZE = 64\n",
    "GAMMA = 0.98\n",
    "\n",
    "device = 'cuda' if torch.cuda.is_available() else 'cpu'\n",
    "print(f'device in use: {device}')\n",
    "\n",
    "num_states = env_info.vector_observations.shape[1]\n",
    "num_actions = brain.vector_action_space_size\n",
    "\n",
    "actors = [Actor(num_states, num_actions, dim=(300, 400), device=device), Actor(\n",
    "    num_states, num_actions, dim=(300, 400), device=device)]\n",
    "actor_targets = [Actor(num_states, num_actions,\n",
    "                       dim=(300, 400), device=device), Actor(num_states, num_actions,\n",
    "                                                             dim=(300, 400), device=device)]\n",
    "\n",
    "for actor, target in zip(actors, actor_targets):\n",
    "    hard_copy(actor, target)\n",
    "\n",
    "print(f'Actors arch {actors[0]}')\n",
    "\n",
    "critic = Critic(num_states + num_actions, action_size,\n",
    "                dim=(400, 500), device=device)\n",
    "critic_target = Critic(num_states + num_actions, action_size,\n",
    "                       dim=(400, 500), device=device)\n",
    "hard_copy(critic, critic_target)\n",
    "\n",
    "print(f'Critic {critic}')\n",
    "\n",
    "criterion = nn.MSELoss()\n",
    "actor_optims = [optim.Adam(actor.parameters(), lr=ACTOR_LR)\n",
    "                for actor in actors]\n",
    "critic_optim = optim.Adam(critic.parameters(), lr=CRITIC_LR)\n",
    "\n",
    "replay_buffer = ReplayBuffer(cap=BUFFER_LEN)\n",
    "\n",
    "\n",
    "def update_agent():\n",
    "    for actor, target, op in zip(actors, actor_targets, actor_optims):\n",
    "        states, actions, rewards, next_states, dones = replay_buffer.sample(\n",
    "            BATCH_SIZE)\n",
    "        states = torch.from_numpy(states).float().to(device)\n",
    "        actions = torch.from_numpy(actions).float().to(device)\n",
    "        rewards = torch.from_numpy(rewards).float().to(device)\n",
    "        next_states = torch.from_numpy(next_states).float().to(device)\n",
    "        dones = torch.from_numpy(dones.view(\n",
    "            dtype=np.int8).reshape(-1, 1)).to(device)\n",
    "        # print(\"\\n\", states.shape, next_states.shape, rewards.shape, actions.shape)\n",
    "        next_action = target.forward(next_states)\n",
    "        nextQ = critic_target.forward(next_states, next_action.detach())\n",
    "        Qprime = rewards.reshape(-1, 1) + GAMMA * nextQ * (1 - dones)\n",
    "\n",
    "        Qval = critic.forward(states, actions)\n",
    "        critic_loss = criterion(Qval, Qprime)\n",
    "        actor_loss = -critic.forward(states, actor.forward(states)).mean()\n",
    "\n",
    "        op.zero_grad()\n",
    "        actor_loss.backward()\n",
    "        op.step()\n",
    "\n",
    "        soft_copy(actor, target)\n",
    "\n",
    "        critic_optim.zero_grad()\n",
    "        critic_loss.backward()\n",
    "        nn.utils.clip_grad_norm_(critic.parameters(), 1)\n",
    "        critic_optim.step()\n",
    "        soft_copy(critic, critic_target)\n",
    "\n",
    "\n",
    "@torch.no_grad()\n",
    "def get_action(state, actor: Actor):\n",
    "    state = torch.from_numpy(state).float().unsqueeze(0).to(device)\n",
    "    action = actor.forward(state)\n",
    "    return action.cpu().detach().numpy()[0]\n",
    "\n",
    "\n",
    "NET_UPD = 6\n",
    "NUM_EPISODES = 4000\n",
    "\n",
    "noise = OUNoise(num_actions, theta=0.25, max_sigma=0.4, decay_period=500)\n",
    "episode_rewards = []\n",
    "avg_rewards = []\n",
    "total_steps = 0\n",
    "for e in range(NUM_EPISODES):\n",
    "    env_info = env.reset(train_mode=True)[brain_name]\n",
    "    states = env_info.vector_observations\n",
    "    noise.reset()\n",
    "    step = 0\n",
    "    ep_reward = 0\n",
    "    while True:\n",
    "        step += 1\n",
    "        total_steps += 1\n",
    "\n",
    "        actions = np.zeros((num_agents, action_size))\n",
    "        for i in range(num_agents):\n",
    "            actions[i] = get_action(states[i], actor=actors[i])\n",
    "            actions[i] = noise.get_action(actions[i], step)\n",
    "\n",
    "        env_info = env.step(actions)[brain_name]\n",
    "        next_states = env_info.vector_observations\n",
    "        rewards = env_info.rewards\n",
    "        dones = env_info.local_done\n",
    "\n",
    "        replay_buffer.push(states, actions, rewards, next_states, dones)\n",
    "\n",
    "        states = next_states\n",
    "        ep_reward += np.max(rewards)\n",
    "\n",
    "        if len(replay_buffer) > BATCH_SIZE and (total_steps+1) % 20 == 0:\n",
    "            for i in range(NET_UPD):\n",
    "                update_agent()\n",
    "\n",
    "        if np.any(dones):\n",
    "            break\n",
    "\n",
    "    episode_rewards.append(ep_reward)\n",
    "    avg_rewards.append(np.mean(episode_rewards[-100:]))\n",
    "\n",
    "    print(\n",
    "        f'\\rEpisode {e} reward {ep_reward:.3f} and average reward {avg_rewards[-1]:.3f} after {total_steps} steps', end='')\n",
    "    gc.collect()\n",
    "\n",
    "    if len(episode_rewards[-100:]) >= 100 and np.mean(episode_rewards[-100:]) >= 0.5:\n",
    "        print(\n",
    "            f'Early stop at episode {e}; Goal has been reached; Mean reward in the last 100 episodes {np.mean(episode_rewards[-100:])}')\n",
    "        break\n"
   ]
  },
  {
   "cell_type": "code",
   "execution_count": 22,
   "metadata": {},
   "outputs": [],
   "source": [
    "!mkdir experiments"
   ]
  },
  {
   "cell_type": "code",
   "execution_count": 23,
   "metadata": {},
   "outputs": [
    {
     "data": {
      "image/png": "[encoded data removed]",
      "text/plain": [
       "<Figure size 432x288 with 1 Axes>"
      ]
     },
     "metadata": {
      "needs_background": "light"
     },
     "output_type": "display_data"
    }
   ],
   "source": [
    "plot_rewards(episode_rewards, average=avg_rewards, goal=0.5, title=\"Training\", filename='experiments/training.jpeg')"
   ]
  },
  {
   "cell_type": "code",
   "execution_count": 14,
   "metadata": {},
   "outputs": [
    {
     "name": "stdout",
     "output_type": "stream",
     "text": [
      "Evaluation #10 finished with reward 5.200000077486038"
     ]
    }
   ],
   "source": [
    "# Evaluation\n",
    "def evaluate(agents, n=10, fast=False):\n",
    "    eval_rewards = []\n",
    "    for e in range(n):\n",
    "        env_info = env.reset(train_mode=fast)[brain_name]\n",
    "        states = env_info.vector_observations\n",
    "\n",
    "        ep_reward = 0\n",
    "        while True:\n",
    "            actions = np.zeros((num_agents, action_size))\n",
    "            for i in range(num_agents):\n",
    "                actions[i] = get_action(states[i], actor=agents[i])\n",
    "                actions[i] = noise.get_action(actions[i], step)\n",
    "\n",
    "            env_info = env.step(actions)[brain_name]\n",
    "            next_states = env_info.vector_observations\n",
    "            rewards = env_info.rewards\n",
    "            dones = env_info.local_done\n",
    "\n",
    "            ep_reward += np.sum(rewards)\n",
    "            states = next_states\n",
    "            if np.any(dones):\n",
    "                break\n",
    "        \n",
    "        eval_rewards.append(ep_reward) \n",
    "        print(f'\\rEvaluation #{e+1} finished with reward {ep_reward}', end='')\n",
    "    \n",
    "    return eval_rewards\n",
    "\n",
    "eval_rewards = evaluate(actor_targets)"
   ]
  },
  {
   "cell_type": "code",
   "execution_count": 24,
   "metadata": {},
   "outputs": [
    {
     "data": {
      "image/png": "[encoded data removed]",
      "text/plain": [
       "<Figure size 432x288 with 1 Axes>"
      ]
     },
     "metadata": {
      "needs_background": "light"
     },
     "output_type": "display_data"
    }
   ],
   "source": [
    "plot_rewards(eval_rewards, title='Evaluation Rewards', goal=0.5, filename='experiments/evaluation.jpeg')"
   ]
  },
  {
   "cell_type": "code",
   "execution_count": 16,
   "metadata": {},
   "outputs": [],
   "source": [
    "torch.save(actor_targets[0], 'actor_one.pt')\n",
    "torch.save(actor_targets[1], 'actor_two.pt')\n",
    "torch.save(critic_target, 'critic.pt')"
   ]
  },
  {
   "cell_type": "code",
   "execution_count": 20,
   "metadata": {},
   "outputs": [
    {
     "name": "stdout",
     "output_type": "stream",
     "text": [
      "Evaluation #1 finished with reward 5.300000078976154"
     ]
    },
    {
     "data": {
      "text/plain": [
       "[5.300000078976154]"
      ]
     },
     "execution_count": 20,
     "metadata": {},
     "output_type": "execute_result"
    }
   ],
   "source": [
    "loaded_one = torch.load('actor_one.pt')\n",
    "loaded_two = torch.load('actor_two.pt')\n",
    "\n",
    "evaluate([loaded_one, loaded_two], n=1)"
   ]
  },
  {
   "cell_type": "code",
   "execution_count": null,
   "metadata": {},
   "outputs": [],
   "source": [
    "env.close()"
   ]
  },
  {
   "cell_type": "code",
   "execution_count": null,
   "metadata": {},
   "outputs": [],
   "source": []
  }
 ],
 "metadata": {
  "kernelspec": {
   "display_name": "Python 3",
   "language": "python",
   "name": "python3"
  },
  "language_info": {
   "codemirror_mode": {
    "name": "ipython",
    "version": 3
   },
   "file_extension": ".py",
   "mimetype": "text/x-python",
   "name": "python",
   "nbconvert_exporter": "python",
   "pygments_lexer": "ipython3",
   "version": "3.6.13"
  }
 },
 "nbformat": 4,
 "nbformat_minor": 2
}
