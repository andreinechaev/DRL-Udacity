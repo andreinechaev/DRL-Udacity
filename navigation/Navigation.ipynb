{
 "cells": [
  {
   "cell_type": "markdown",
   "metadata": {},
   "source": [
    "# Navigation\n",
    "\n",
    "---\n",
    "\n",
    "In this notebook, you will learn how to use the Unity ML-Agents environment for the first project of the [Deep Reinforcement Learning Nanodegree](https://www.udacity.com/course/deep-reinforcement-learning-nanodegree--nd893).\n",
    "\n",
    "### 1. Start the Environment\n",
    "\n",
    "We begin by importing some necessary packages.  If the code cell below returns an error, please revisit the project instructions to double-check that you have installed [Unity ML-Agents](https://github.com/Unity-Technologies/ml-agents/blob/master/docs/Installation.md) and [NumPy](http://www.numpy.org/)."
   ]
  },
  {
   "cell_type": "code",
   "execution_count": 1,
   "metadata": {},
   "outputs": [],
   "source": [
    "from unityagents import UnityEnvironment\n",
    "# from mlagents_envs.environment import UnityEnvironment\n",
    "import numpy as np"
   ]
  },
  {
   "cell_type": "markdown",
   "metadata": {},
   "source": [
    "Next, we will start the environment!  **_Before running the code cell below_**, change the `file_name` parameter to match the location of the Unity environment that you downloaded.\n",
    "\n",
    "- **Mac**: `\"path/to/Banana.app\"`\n",
    "- **Windows** (x86): `\"path/to/Banana_Windows_x86/Banana.exe\"`\n",
    "- **Windows** (x86_64): `\"path/to/Banana_Windows_x86_64/Banana.exe\"`\n",
    "- **Linux** (x86): `\"path/to/Banana_Linux/Banana.x86\"`\n",
    "- **Linux** (x86_64): `\"path/to/Banana_Linux/Banana.x86_64\"`\n",
    "- **Linux** (x86, headless): `\"path/to/Banana_Linux_NoVis/Banana.x86\"`\n",
    "- **Linux** (x86_64, headless): `\"path/to/Banana_Linux_NoVis/Banana.x86_64\"`\n",
    "\n",
    "For instance, if you are using a Mac, then you downloaded `Banana.app`.  If this file is in the same folder as the notebook, then the line below should appear as follows:\n",
    "```\n",
    "env = UnityEnvironment(file_name=\"Banana.app\")\n",
    "```"
   ]
  },
  {
   "cell_type": "code",
   "execution_count": 2,
   "metadata": {},
   "outputs": [
    {
     "name": "stderr",
     "output_type": "stream",
     "text": [
      "INFO:unityagents:\n",
      "'Academy' started successfully!\n",
      "Unity Academy name: Academy\n",
      "        Number of Brains: 1\n",
      "        Number of External Brains : 1\n",
      "        Lesson number : 0\n",
      "        Reset Parameters :\n",
      "\t\t\n",
      "Unity brain name: BananaBrain\n",
      "        Number of Visual Observations (per agent): 0\n",
      "        Vector Observation space type: continuous\n",
      "        Vector Observation space size (per agent): 37\n",
      "        Number of stacked Vector Observation: 1\n",
      "        Vector Action space type: discrete\n",
      "        Vector Action space size (per agent): 4\n",
      "        Vector Action descriptions: , , , \n"
     ]
    }
   ],
   "source": [
    "env = UnityEnvironment(file_name=\"Banana_Linux/Banana.x86_64\")"
   ]
  },
  {
   "cell_type": "markdown",
   "metadata": {},
   "source": [
    "Environments contain **_brains_** which are responsible for deciding the actions of their associated agents. Here we check for the first brain available, and set it as the default brain we will be controlling from Python."
   ]
  },
  {
   "cell_type": "code",
   "execution_count": 3,
   "metadata": {},
   "outputs": [],
   "source": [
    "# get the default brain\n",
    "brain_name = env.brain_names[0]\n",
    "brain = env.brains[brain_name]"
   ]
  },
  {
   "cell_type": "markdown",
   "metadata": {},
   "source": [
    "### 2. Examine the State and Action Spaces\n",
    "\n",
    "The simulation contains a single agent that navigates a large environment.  At each time step, it has four actions at its disposal:\n",
    "- `0` - walk forward \n",
    "- `1` - walk backward\n",
    "- `2` - turn left\n",
    "- `3` - turn right\n",
    "\n",
    "The state space has `37` dimensions and contains the agent's velocity, along with ray-based perception of objects around agent's forward direction.  A reward of `+1` is provided for collecting a yellow banana, and a reward of `-1` is provided for collecting a blue banana. \n",
    "\n",
    "Run the code cell below to print some information about the environment."
   ]
  },
  {
   "cell_type": "code",
   "execution_count": 4,
   "metadata": {},
   "outputs": [
    {
     "name": "stdout",
     "output_type": "stream",
     "text": [
      "Number of agents: 1\n",
      "Number of actions: 4\n",
      "States look like: [1.         0.         0.         0.         0.84408134 0.\n",
      " 0.         1.         0.         0.0748472  0.         1.\n",
      " 0.         0.         0.25755    1.         0.         0.\n",
      " 0.         0.74177343 0.         1.         0.         0.\n",
      " 0.25854847 0.         0.         1.         0.         0.09355672\n",
      " 0.         1.         0.         0.         0.31969345 0.\n",
      " 0.        ]\n",
      "States have length: 37\n"
     ]
    }
   ],
   "source": [
    "# reset the environment\n",
    "env_info = env.reset(train_mode=True)[brain_name]\n",
    "\n",
    "# number of agents in the environment\n",
    "print('Number of agents:', len(env_info.agents))\n",
    "\n",
    "# number of actions\n",
    "action_size = brain.vector_action_space_size\n",
    "print('Number of actions:', action_size)\n",
    "\n",
    "# examine the state space \n",
    "state = env_info.vector_observations[0]\n",
    "print('States look like:', state)\n",
    "state_size = len(state)\n",
    "print('States have length:', state_size)"
   ]
  },
  {
   "cell_type": "markdown",
   "metadata": {},
   "source": [
    "### 3. Take Random Actions in the Environment\n",
    "\n",
    "In the next code cell, you will learn how to use the Python API to control the agent and receive feedback from the environment.\n",
    "\n",
    "Once this cell is executed, you will watch the agent's performance, if it selects an action (uniformly) at random with each time step.  A window should pop up that allows you to observe the agent, as it moves through the environment.  \n",
    "\n",
    "Of course, as part of the project, you'll have to change the code so that the agent is able to use its experience to gradually choose better actions when interacting with the environment!"
   ]
  },
  {
   "cell_type": "code",
   "execution_count": 5,
   "metadata": {},
   "outputs": [
    {
     "name": "stdout",
     "output_type": "stream",
     "text": [
      "Score: 1.0\n"
     ]
    }
   ],
   "source": [
    "env_info = env.reset(train_mode=True)[brain_name] # reset the environment\n",
    "state = env_info.vector_observations[0]            # get the current state\n",
    "score = 0                                          # initialize the score\n",
    "while True:\n",
    "    action = np.random.randint(action_size)        # select an action\n",
    "    env_info = env.step(action)[brain_name]        # send the action to the environment\n",
    "    next_state = env_info.vector_observations[0]   # get the next state\n",
    "    reward = env_info.rewards[0]                   # get the reward\n",
    "    done = env_info.local_done[0]                  # see if episode has finished\n",
    "    score += reward                                # update the score\n",
    "    state = next_state                             # roll over the state to next time step\n",
    "    if done:                                       # exit loop if episode finished\n",
    "        break\n",
    "    \n",
    "print(\"Score: {}\".format(score))"
   ]
  },
  {
   "cell_type": "markdown",
   "metadata": {},
   "source": [
    "When finished, you can close the environment."
   ]
  },
  {
   "cell_type": "code",
   "execution_count": 6,
   "metadata": {},
   "outputs": [],
   "source": [
    "# env.close()"
   ]
  },
  {
   "cell_type": "markdown",
   "metadata": {},
   "source": [
    "### 4. It's Your Turn!\n",
    "\n",
    "Now it's your turn to train your own agent to solve the environment!  When training the environment, set `train_mode=True`, so that the line for resetting the environment looks like the following:\n",
    "```python\n",
    "env_info = env.reset(train_mode=True)[brain_name]\n",
    "```"
   ]
  },
  {
   "cell_type": "markdown",
   "metadata": {},
   "source": [
    "## Defining a Model\n",
    "\n",
    "Basic implementation of DNN with just 3 hidden layers for further usage as the target and local netwrorks\n",
    "\n",
    "DQN defines Q-function as a neural network that maps State to Action\n",
    "\n",
    "For the current environment the following archetecture was chosen:\n",
    "```\n",
    "    Input\n",
    "      |\n",
    "    _/ Linear(128)\n",
    "      |\n",
    "    _/ Linear(512)\n",
    "      |\n",
    "    _/ Linear(256)\n",
    "      |\n",
    "    Output\n",
    "```\n",
    "Where `_/` - ReLu"
   ]
  },
  {
   "cell_type": "code",
   "execution_count": 7,
   "metadata": {},
   "outputs": [],
   "source": [
    "import matplotlib.pyplot as plt\n",
    "%matplotlib inline"
   ]
  },
  {
   "cell_type": "code",
   "execution_count": 8,
   "metadata": {},
   "outputs": [],
   "source": [
    "from torch import nn\n",
    "import torch.nn.functional as f\n",
    "\n",
    "class Net(nn.Module):\n",
    "    \"\"\"\n",
    "    Simple Network of Linear layers\n",
    "    \"\"\"\n",
    "    \n",
    "    def __init__(self, inputs, outputs, device='cpu', dims=(128, 512, 256)):\n",
    "        super(Net, self).__init__()\n",
    "        self.activation = nn.ReLU()\n",
    "        \n",
    "        self.input = nn.Linear(inputs, dims[0])\n",
    "        self.hidden_layers = nn.ModuleList()\n",
    "        for i in range(len(dims)-1):\n",
    "            self.hidden_layers.append(nn.Linear(dims[i], dims[i+1]))\n",
    "        self.output = nn.Linear(dims[-1], outputs)\n",
    "        \n",
    "        self.device = torch.device(device)\n",
    "        self.to(self.device)\n",
    "        \n",
    "    def forward(self, X):\n",
    "        x = self._move(X)\n",
    "        x = self.activation(self.input(x))\n",
    "        for layer in self.hidden_layers:\n",
    "            x = self.activation(layer(x))\n",
    "        return self.output(x)\n",
    "    \n",
    "    def _move(self, X):\n",
    "        x = X\n",
    "        if not isinstance(x, torch.Tensor):\n",
    "            x = torch.tensor(x, \n",
    "                             device=self.device, \n",
    "                             dtype=torch.float32)\n",
    "            x = x.unsqueeze(0)\n",
    "        return x\n",
    "    \n",
    "    def load(self, experiences):\n",
    "        states, actions, next_states, rewards, failied = experiences\n",
    "        states = torch.from_numpy(states).float().to(self.device)\n",
    "        actions = torch.from_numpy(actions).long().to(self.device)\n",
    "        next_states = torch.from_numpy(next_states).float().to(self.device)\n",
    "        rewards = torch.from_numpy(rewards).float().to(self.device)\n",
    "        failied = torch.from_numpy(failied).float().to(self.device)\n",
    "        return states, actions, next_states, rewards, failied"
   ]
  },
  {
   "cell_type": "code",
   "execution_count": 9,
   "metadata": {},
   "outputs": [
    {
     "data": {
      "text/plain": [
       "['BananaBrain']"
      ]
     },
     "execution_count": 9,
     "metadata": {},
     "output_type": "execute_result"
    }
   ],
   "source": [
    "env.brain_names"
   ]
  },
  {
   "cell_type": "code",
   "execution_count": 10,
   "metadata": {},
   "outputs": [],
   "source": [
    "from collections import deque\n",
    "import random\n",
    "\n",
    "class ReplayBuffer:\n",
    "    \n",
    "    def __init__(self, cap=50):\n",
    "        self.cap = cap\n",
    "        self.buffer = deque([], maxlen=cap)\n",
    "        \n",
    "    def sample(self, batch_size):\n",
    "        states, actions, rewards, next_states, failures = zip(*random.sample(self.buffer, batch_size))\n",
    "        return np.vstack(states), np.vstack(actions), np.vstack(rewards), np.vstack(next_states), np.vstack(failures)\n",
    "    \n",
    "    def store(self, value):\n",
    "        self.buffer.append(value)\n",
    "        \n",
    "    def __len__(self):\n",
    "        return len(self.buffer)\n",
    "    \n",
    "    def __repr__(self):\n",
    "        return f'ReplayBuffer(len={len(self.buffer)}, cap={self.cap})'\n",
    "    "
   ]
  },
  {
   "cell_type": "code",
   "execution_count": 11,
   "metadata": {},
   "outputs": [],
   "source": [
    "import torch\n",
    "from itertools import count\n",
    "import gc\n",
    "\n",
    "class Agent:\n",
    "    \n",
    "    def __init__(self, inputs, outputs, batch_size=256, buffer_size=10e3, device='cpu', decay=0.9995, eps_min=0.002, gamma=0.995, alpha=0.0026, lr=0.0026, brain_name='BananaBrain'):\n",
    "        self.nS = inputs\n",
    "        self.nA = outputs\n",
    "        self.online_net = Net(inputs, outputs, device=device)\n",
    "        self.target_net = Net(inputs, outputs, device=device)\n",
    "        self.rbuffer = ReplayBuffer(cap=int(buffer_size))\n",
    "        self.batch_size = batch_size\n",
    "        self.step_n = 0\n",
    "        self.epsilon = 1.0\n",
    "        self.decay = decay\n",
    "        self.eps_min = eps_min\n",
    "        self.gamma = gamma\n",
    "        self.lr = lr\n",
    "        self.rewards = deque([], maxlen=100)\n",
    "        self.last_best_reward = -np.inf\n",
    "        self.rewards_hist, self.loss_hist, self.eval_reward_hist = [], [], []\n",
    "        self.brain_name = brain_name\n",
    "        \n",
    "    @torch.no_grad()\n",
    "    def select_action(self, model, state, greedy=False):\n",
    "        if np.random.random() > self.epsilon or greedy:\n",
    "            qs = model(state).cpu().detach().data.numpy().squeeze()\n",
    "            action = np.argmax(qs)\n",
    "        else:\n",
    "            action = np.random.randint(self.nA)\n",
    "            \n",
    "        self.epsilon = max(self.epsilon * self.decay, self.eps_min)\n",
    "        return action\n",
    "        \n",
    "    def step(self, env, model, state, greedy=False):\n",
    "        self.step_n += 1\n",
    "        action = self.select_action(model, state, greedy)\n",
    "        env_info = env.step(action)[self.brain_name]\n",
    "        next_state, reward, done = env_info.vector_observations[0], env_info.rewards[0], env_info.local_done[0]\n",
    "        failed = float(done)\n",
    "        self.rbuffer.store((state, action, reward, next_state, failed))\n",
    "        \n",
    "        return next_state, reward, done\n",
    "        \n",
    "    def optimize(self, experiences):\n",
    "        states, actions, rewards, next_states, failures = experiences\n",
    "        \n",
    "        max_a = self.target_net(next_states).detach().max(1)[0].unsqueeze(1)\n",
    "        target_q = rewards + (self.gamma * max_a * (1 - failures))\n",
    "        \n",
    "        q = self.online_net(states).gather(1, actions)\n",
    "        criterion = nn.SmoothL1Loss()\n",
    "        loss = criterion(q, target_q)\n",
    "        \n",
    "        self.optimizer.zero_grad()\n",
    "        loss.backward()\n",
    "        torch.nn.utils.clip_grad_norm_(self.online_net.parameters(), np.inf) # clip grad to inf TODO: find a better value\n",
    "        self.optimizer.step()\n",
    "        \n",
    "        return loss.cpu().detach().mean()\n",
    "        \n",
    "    def train(self, env, episodes=50, update_every=25, quit_at=100, over=100):\n",
    "        self.optimizer = torch.optim.SGD(self.online_net.parameters(), lr=self.lr, momentum=0.9)\n",
    "        eval_mean = -np.inf\n",
    "        for e in range(episodes):\n",
    "            env_info = env.reset(train_mode=True)[self.brain_name]\n",
    "            state = env_info.vector_observations[0]\n",
    "            episode_reward = 0\n",
    "            for c in count():\n",
    "                state, reward, done = self.step(env, self.online_net, state)\n",
    "                episode_reward += reward\n",
    "                if done:\n",
    "                    gc.collect()\n",
    "                    break\n",
    "                    \n",
    "                if len(self.rbuffer) > self.batch_size:\n",
    "                    samples = self.rbuffer.sample(self.batch_size)\n",
    "                    samples = self.online_net.load(samples)\n",
    "                    loss = self.optimize(samples)\n",
    "                    \n",
    "                    if c % 100 == 0:\n",
    "                        self.loss_hist.append(loss)\n",
    "                    \n",
    "            last_eval_reward = 0 if len(self.eval_reward_hist) == 0 else self.eval_reward_hist[-1]\n",
    "            print(f'\\rMean reward {episode_reward:.4f} at episode {e} epsilon {self.epsilon:.4f} buffer len {len(self.rbuffer)}; best {self.last_best_reward:.4f}; eval {last_eval_reward:.4f}\\t', end='')\n",
    "            self.rewards_hist.append(episode_reward)\n",
    "            self.last_best_reward = episode_reward if episode_reward > self.last_best_reward else self.last_best_reward\n",
    "                \n",
    "            if e % update_every == 0: # and len(self.mean_rewards) > 0 and self.mean_rewards[-1] >= self.last_best_reward: # Doesn't pull learning up\n",
    "                self.update()\n",
    "                    \n",
    "                eval_val = agent.evaluate(env, episodes=over, visualize=False)\n",
    "                self.eval_reward_hist.append(eval_val)\n",
    "                if eval_val >= quit_at:\n",
    "                    print(f'\\nReached reward {quit_at} with mean value {eval_val} at episode {e}')\n",
    "                    break\n",
    "            \n",
    "                \n",
    "    @torch.no_grad()            \n",
    "    def evaluate(self, env, episodes=10, visualize=False):\n",
    "        total = []\n",
    "        for e in range(episodes):\n",
    "            env_info = env.reset(train_mode=(not visualize))[self.brain_name]\n",
    "            state = env_info.vector_observations[0]\n",
    "            episode_reward = 0\n",
    "            for c in count():\n",
    "                state, reward, done = self.step(env, self.target_net, state, greedy=True)\n",
    "                episode_reward += reward\n",
    "#                 if visualize:\n",
    "#                     env.render()\n",
    "                if done:\n",
    "                    gc.collect()\n",
    "                    break\n",
    "                    \n",
    "            total.append(episode_reward)\n",
    "        if visualize:  \n",
    "            env.close()\n",
    "            \n",
    "        return np.mean(total)\n",
    "    \n",
    "    def save(self, name='model.pt'):\n",
    "        torch.save(self.target_net.state_dict(), name)\n",
    "    \n",
    "    def load(self, name='model.pt'):\n",
    "        pass\n",
    "        \n",
    "    def reset(self):\n",
    "        self.rewards_hist.clear()\n",
    "        self.eval_reward_hist.clear()\n",
    "        self.loss_hist.clear()\n",
    "        self.last_best_reward = -np.inf\n",
    "        \n",
    "    def update(self):\n",
    "        self.target_net.load_state_dict(self.online_net.state_dict())"
   ]
  },
  {
   "cell_type": "code",
   "execution_count": 12,
   "metadata": {},
   "outputs": [
    {
     "name": "stdout",
     "output_type": "stream",
     "text": [
      "using cuda as device\n"
     ]
    }
   ],
   "source": [
    "brain_name = env.brain_names[0]\n",
    "device = \"cuda\" if torch.cuda.is_available() else \"cpu\"\n",
    "print(f'using {device} as device')"
   ]
  },
  {
   "cell_type": "code",
   "execution_count": 13,
   "metadata": {},
   "outputs": [],
   "source": [
    "# env = UnityEnvironment(file_name=\"Banana_Linux/Banana.x86_64\")"
   ]
  },
  {
   "cell_type": "code",
   "execution_count": 14,
   "metadata": {
    "tags": []
   },
   "outputs": [
    {
     "name": "stdout",
     "output_type": "stream",
     "text": [
      "Mean reward 15.0000 at episode 1780 epsilon 0.0020 buffer len 50000; best 21.0000; eval 13.2667\t\n",
      "Reached reward 15 with mean value 15.066666666666666 at episode 1780\n"
     ]
    }
   ],
   "source": [
    "SEED = 26\n",
    "torch.manual_seed(SEED)\n",
    "np.random.seed(SEED)\n",
    "random.seed(SEED)\n",
    "\n",
    "agent = Agent(state_size, action_size, device=device, buffer_size=50_000, batch_size=1600, decay=0.999995, lr=0.00018)\n",
    "agent.train(env, episodes=2500, update_every=10, quit_at=15, over=15)"
   ]
  },
  {
   "cell_type": "code",
   "execution_count": 15,
   "metadata": {},
   "outputs": [
    {
     "data": {
      "text/plain": [
       "13.76"
      ]
     },
     "execution_count": 15,
     "metadata": {},
     "output_type": "execute_result"
    }
   ],
   "source": [
    "eval_mean = agent.evaluate(env, episodes=100, visualize=False)\n",
    "eval_mean"
   ]
  },
  {
   "cell_type": "code",
   "execution_count": 16,
   "metadata": {
    "tags": []
   },
   "outputs": [],
   "source": [
    "# agent.evaluate(env, episodes=1, visualize=True)"
   ]
  },
  {
   "cell_type": "code",
   "execution_count": 24,
   "metadata": {},
   "outputs": [
    {
     "data": {
      "image/png": "[encoded data removed]",
      "text/plain": [
       "<Figure size 432x288 with 1 Axes>"
      ]
     },
     "metadata": {
      "needs_background": "light"
     },
     "output_type": "display_data"
    }
   ],
   "source": [
    "plt.title('Rewards per episode')\n",
    "plt.plot(agent.rewards_hist, label='Reward')\n",
    "plt.legend()\n",
    "plt.savefig('rewards_per_episode.png')\n",
    "plt.show()"
   ]
  },
  {
   "cell_type": "code",
   "execution_count": 23,
   "metadata": {},
   "outputs": [
    {
     "data": {
      "image/png": "[encoded data removed]",
      "text/plain": [
       "<Figure size 432x288 with 1 Axes>"
      ]
     },
     "metadata": {
      "needs_background": "light"
     },
     "output_type": "display_data"
    }
   ],
   "source": [
    "plt.title('Evaluation Reward at Target model update time')\n",
    "plt.plot(agent.eval_reward_hist, label='Reward')\n",
    "plt.legend()\n",
    "plt.savefig('eval_hist.png')\n",
    "plt.show()"
   ]
  },
  {
   "cell_type": "code",
   "execution_count": 25,
   "metadata": {},
   "outputs": [
    {
     "data": {
      "image/png": "[encoded data removed]",
      "text/plain": [
       "<Figure size 432x288 with 1 Axes>"
      ]
     },
     "metadata": {
      "needs_background": "light"
     },
     "output_type": "display_data"
    }
   ],
   "source": [
    "plt.title('Loss per episode')\n",
    "plt.plot(agent.loss_hist, label='Loss')\n",
    "plt.legend()\n",
    "plt.savefig('loss_per_episode.png')\n",
    "plt.show()"
   ]
  },
  {
   "cell_type": "code",
   "execution_count": 26,
   "metadata": {},
   "outputs": [
    {
     "data": {
      "image/png": "[encoded data removed]",
      "text/plain": [
       "<Figure size 432x288 with 1 Axes>"
      ]
     },
     "metadata": {
      "needs_background": "light"
     },
     "output_type": "display_data"
    }
   ],
   "source": [
    "def epsilon_decay(initial, decay, minimum, over=100_000):\n",
    "    epsilon = initial\n",
    "    result = []\n",
    "    for i in range(over):\n",
    "        epsilon = max(epsilon * decay, minimum)\n",
    "        result.append(epsilon)\n",
    "    return result\n",
    "\n",
    "decay = epsilon_decay(1.0, agent.decay, agent.eps_min, over=1_000_000)\n",
    "\n",
    "plt.title('Epsilon Decay over N steps')\n",
    "plt.plot(decay, label='Epsilon')\n",
    "plt.legend()\n",
    "plt.savefig('eps_decay.png')\n",
    "plt.show()"
   ]
  },
  {
   "cell_type": "code",
   "execution_count": 22,
   "metadata": {},
   "outputs": [],
   "source": [
    "agent.save()"
   ]
  },
  {
   "cell_type": "code",
   "execution_count": null,
   "metadata": {},
   "outputs": [],
   "source": [
    "env.close()"
   ]
  },
  {
   "cell_type": "code",
   "execution_count": null,
   "metadata": {},
   "outputs": [],
   "source": []
  }
 ],
 "metadata": {
  "kernelspec": {
   "display_name": "Python 3",
   "language": "python",
   "name": "python3"
  },
  "language_info": {
   "codemirror_mode": {
    "name": "ipython",
    "version": 3
   },
   "file_extension": ".py",
   "mimetype": "text/x-python",
   "name": "python",
   "nbconvert_exporter": "python",
   "pygments_lexer": "ipython3",
   "version": "3.6.13"
  }
 },
 "nbformat": 4,
 "nbformat_minor": 4
}